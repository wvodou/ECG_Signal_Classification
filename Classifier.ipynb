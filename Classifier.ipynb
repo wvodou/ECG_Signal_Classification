{
 "cells": [
  {
   "cell_type": "code",
   "id": "initial_id",
   "metadata": {
    "collapsed": true,
    "ExecuteTime": {
     "end_time": "2024-12-02T09:40:55.992612Z",
     "start_time": "2024-12-02T09:40:54.892893Z"
    }
   },
   "source": [
    "import csv\n",
    "import os\n",
    "\n",
    "import sys\n",
    "\n",
    "sys.path.append('C:/Users/vodou/Documents/Python Scripts')\n",
    "\n",
    "import prog_tools as pt\n",
    "import computer_interface as ci\n",
    "\n",
    "import biosppy.signals.ecg as ecg\n",
    "import matplotlib.pyplot as plt\n",
    "import numpy as np\n",
    "import pandas as pd\n",
    "from sklearn.preprocessing import StandardScaler\n",
    "from sklearn.metrics import accuracy_score\n",
    "from sklearn.model_selection import train_test_split\n",
    "from sklearn.metrics import f1_score\n",
    "import matplotlib.pyplot as plt\n",
    "import seaborn as sns\n",
    "from sklearn.metrics import confusion_matrix\n",
    "from imblearn.over_sampling import SMOTE\n",
    "from imblearn.under_sampling import RandomUnderSampler\n",
    "from collections import Counter\n",
    "from sklearn.ensemble import RandomForestClassifier\n",
    "from scipy.signal import welch"
   ],
   "outputs": [],
   "execution_count": 1
  },
  {
   "metadata": {
    "ExecuteTime": {
     "end_time": "2024-12-02T09:40:56.025334Z",
     "start_time": "2024-12-02T09:40:56.011839Z"
    }
   },
   "cell_type": "code",
   "source": [
    "def plot_ecg(item, sampling_rate=300, N=300):\n",
    "    ecg_signal = item  # Replace `item` with your ECG data array or list\n",
    "\n",
    "    # Calculate the time axis in seconds\n",
    "    time = [i / sampling_rate for i in range(len(ecg_signal))]\n",
    "\n",
    "    # Plot the ECG signal\n",
    "    plt.figure(figsize=(35, 4))\n",
    "    plt.plot(time[:N], ecg_signal[:N], color='orange', linewidth=1)\n",
    "    plt.title(\"ECG Reading\")\n",
    "    plt.xlabel(\"Time (s)\")\n",
    "    plt.ylabel(\"Amplitude\")\n",
    "    plt.grid(True)\n",
    "    plt.show()"
   ],
   "id": "86018d2ec60494e0",
   "outputs": [],
   "execution_count": 2
  },
  {
   "metadata": {
    "ExecuteTime": {
     "end_time": "2024-12-02T09:40:56.041462Z",
     "start_time": "2024-12-02T09:40:56.028941Z"
    }
   },
   "cell_type": "code",
   "source": [
    "def plot_peaks(ecg_signal, r_peaks, sampling_rate=300, N=300):\n",
    "    # Limit the ECG signal and time axis to the first N points\n",
    "    ecg_signal = ecg_signal[:N]\n",
    "    time = [i / sampling_rate for i in range(len(ecg_signal))]\n",
    "\n",
    "    # Filter R-peaks to include only those within the first N points\n",
    "    valid_r_peaks = [i for i in r_peaks if i < N]  # Ensure indices are valid\n",
    "    time_indices = [time[i] for i in valid_r_peaks]  # Convert indices to time for x-axis\n",
    "\n",
    "    # Plot the ECG signal\n",
    "    plt.figure(figsize=(35, 12))\n",
    "    plt.plot(time, ecg_signal, color='orange', linewidth=1)\n",
    "\n",
    "    # Plot a vertical line at each specified index\n",
    "    for t in time_indices:\n",
    "        plt.axvline(x=t, color='red', linestyle='--', linewidth=1)\n",
    "\n",
    "    plt.title(\"ECG Signal with Vertical Lines at R-peaks (First N Points)\")\n",
    "    plt.xlabel(\"Time (s)\")\n",
    "    plt.ylabel(\"Amplitude\")\n",
    "    plt.grid(True)\n",
    "    plt.show()"
   ],
   "id": "a5bb982127dde683",
   "outputs": [],
   "execution_count": 3
  },
  {
   "metadata": {
    "ExecuteTime": {
     "end_time": "2024-12-02T09:40:56.058834Z",
     "start_time": "2024-12-02T09:40:56.050036Z"
    }
   },
   "cell_type": "code",
   "source": [
    "def plot_features(signal):\n",
    "    r_peaks = ecg.engzee_segmenter(signal, 300)['rpeaks']\n",
    "    # print(r_peaks)\n",
    "    if len(r_peaks) >= 2:\n",
    "        # print(ecg.extract_heartbeats(signal, r_peaks, 300))\n",
    "        beats = ecg.extract_heartbeats(signal, r_peaks, 300)['templates']\n",
    "\n",
    "        if len(beats) != 0:\n",
    "            mu = np.mean(beats, axis=0)\n",
    "            var = np.std(beats, axis=0)\n",
    "            md = np.median(beats, axis=0)\n",
    "\n",
    "            plt.plot(range(mu.shape[0]), mu, label='Average HeartBeat', color='blue')\n",
    "            # Fill the variance range\n",
    "            plt.fill_between(range(mu.shape[0]), mu - var, mu + var, linewidth=0, alpha=0.1)\n",
    "            # Plot a median\n",
    "            plt.plot(range(md.shape[0]), md, 'k', label='Median HeartBeat', color='orange')"
   ],
   "id": "fea3404da0a2e4c8",
   "outputs": [],
   "execution_count": 4
  },
  {
   "metadata": {
    "ExecuteTime": {
     "end_time": "2024-12-02T09:40:56.795457Z",
     "start_time": "2024-12-02T09:40:56.783418Z"
    }
   },
   "cell_type": "code",
   "source": [
    "def heartbeat_extractor(all_ecg_signals):\n",
    "\n",
    "    heartbeat_array = []\n",
    "\n",
    "    for ecg_signal in all_ecg_signals:\n",
    "        r_peaks = ecg.engzee_segmenter(ecg_signal, sampling_rate=300)['rpeaks']\n",
    "        beats = ecg.extract_heartbeats(ecg_signal, r_peaks, sampling_rate=300)['templates']\n",
    "        if len(beats) > 0:\n",
    "            ...\n",
    "        elif len(beats) == 0:\n",
    "            r_peaks = ecg.hamilton_segmenter(ecg_signal, sampling_rate=300)['rpeaks']\n",
    "            beats = ecg.extract_heartbeats(ecg_signal, r_peaks, sampling_rate=300)['templates']\n",
    "\n",
    "        heartbeat_array.append(beats)\n",
    "\n",
    "    return heartbeat_array"
   ],
   "id": "b1a95d729b857eac",
   "outputs": [],
   "execution_count": 5
  },
  {
   "metadata": {
    "ExecuteTime": {
     "end_time": "2024-12-02T09:40:56.826237Z",
     "start_time": "2024-12-02T09:40:56.812603Z"
    }
   },
   "cell_type": "code",
   "source": [
    "def drop_na(data):\n",
    "\n",
    "    data_array = []\n",
    "\n",
    "    for i in range(0, len(data)):\n",
    "\n",
    "        ecg_sample = data.loc[i].dropna().to_numpy(dtype='float32')\n",
    "        data_array.append(ecg_sample)\n",
    "\n",
    "    return data_array"
   ],
   "id": "3d04334cd36bf373",
   "outputs": [],
   "execution_count": 6
  },
  {
   "metadata": {
    "ExecuteTime": {
     "end_time": "2024-12-02T09:40:56.871720Z",
     "start_time": "2024-12-02T09:40:56.858720Z"
    }
   },
   "cell_type": "code",
   "source": [
    "def calc_stats(beats):\n",
    "    mu = np.mean(beats, axis=0)\n",
    "    var = np.std(beats, axis=0)\n",
    "    md = np.median(beats, axis=0)\n",
    "    return mu, var, md"
   ],
   "id": "5e536278ff042e62",
   "outputs": [],
   "execution_count": 7
  },
  {
   "metadata": {
    "ExecuteTime": {
     "end_time": "2024-12-02T09:40:56.903300Z",
     "start_time": "2024-12-02T09:40:56.880290Z"
    }
   },
   "cell_type": "code",
   "source": [
    "def extract_ecg_intervals_biosppy(all_signals, sampling_rate=300):\n",
    "\n",
    "    feature_array = []\n",
    "\n",
    "    for ecg_signal in all_signals:\n",
    "\n",
    "        r_peaks = ecg.engzee_segmenter(ecg_signal, sampling_rate=300)['rpeaks']\n",
    "        beats = ecg.extract_heartbeats(ecg_signal, r_peaks, sampling_rate=300)['templates']\n",
    "        if len(beats) > 0:\n",
    "            ...\n",
    "        elif len(beats) == 0:\n",
    "            r_peaks = ecg.hamilton_segmenter(ecg_signal, sampling_rate=300)['rpeaks']\n",
    "            beats = ecg.extract_heartbeats(ecg_signal, r_peaks, sampling_rate=300)['templates']\n",
    "\n",
    "        # Initialize lists to store intervals\n",
    "        rr_intervals = []\n",
    "        qrs_durations = []\n",
    "\n",
    "        r_amplitudes = []\n",
    "        q_amplitudes = []\n",
    "\n",
    "        for beat in beats:\n",
    "            r_index = beat.argmax()  # Index of R peak (maximum value)\n",
    "            r_amplitude = beat[r_index]  # Amplitude of R-wave\n",
    "            r_amplitudes.append(r_amplitude)\n",
    "\n",
    "            if r_index > 0:\n",
    "                q_index = beat[:r_index].argmin()  # Index of Q trough (before the R-wave)\n",
    "                q_amplitude = beat[q_index]  # Amplitude of Q-wave\n",
    "            else:\n",
    "                q_amplitude = 0\n",
    "\n",
    "            q_amplitudes.append(q_amplitude)\n",
    "\n",
    "        for i in range(1, len(r_peaks)):\n",
    "            rr_interval = (r_peaks[i] - r_peaks[i - 1]) / sampling_rate  # RR interval in seconds\n",
    "            rr_intervals.append(rr_interval)\n",
    "\n",
    "        for beat in beats:\n",
    "            qrs_duration = (beat.argmax() - beat.argmin()) / sampling_rate  # Duration in seconds\n",
    "            qrs_durations.append(qrs_duration)\n",
    "\n",
    "        feature_array.append([rr_intervals, qrs_durations, r_amplitudes, q_amplitudes])\n",
    "\n",
    "    return feature_array"
   ],
   "id": "6fd455ceca829a04",
   "outputs": [],
   "execution_count": 8
  },
  {
   "metadata": {
    "ExecuteTime": {
     "end_time": "2024-12-02T09:40:56.934779Z",
     "start_time": "2024-12-02T09:40:56.920124Z"
    }
   },
   "cell_type": "code",
   "source": [
    "def feature_summary(rr_intervals, qrs_durations, r_amplitudes, q_amplitudes):\n",
    "    rr_mu = np.mean(rr_intervals) if rr_intervals else np.nan\n",
    "    rr_std = np.std(rr_intervals) if rr_intervals else np.nan\n",
    "    rr_min = np.min(rr_intervals) if rr_intervals else np.nan\n",
    "    rr_max = np.max(rr_intervals) if rr_intervals else np.nan\n",
    "    qrs_mu = np.mean(qrs_durations) if qrs_durations else np.nan\n",
    "    qrs_std = np.std(qrs_durations) if qrs_durations else np.nan\n",
    "    qrs_min = np.min(qrs_durations) if qrs_durations else np.nan\n",
    "    qrs_max = np.max(qrs_durations) if qrs_durations else np.nan\n",
    "    r_mu = np.mean(r_amplitudes) if r_amplitudes else np.nan\n",
    "    r_std = np.std(r_amplitudes) if r_amplitudes else np.nan\n",
    "    r_min = np.min(r_amplitudes) if r_amplitudes else np.nan\n",
    "    r_max = np.max(r_amplitudes) if r_amplitudes else np.nan\n",
    "    q_mu = np.mean(q_amplitudes) if q_amplitudes else np.nan\n",
    "    q_std = np.std(q_amplitudes) if q_amplitudes else np.nan\n",
    "    q_min = np.min(q_amplitudes) if q_amplitudes else np.nan\n",
    "    q_max = np.max(q_amplitudes) if q_amplitudes else np.nan\n",
    "\n",
    "    return [rr_mu, rr_std, rr_min, rr_max, qrs_mu, qrs_std, qrs_min, qrs_max, r_mu, r_std, r_min, r_max, q_mu, q_std, q_min, q_max]\n"
   ],
   "id": "304e8c93eb9e30ba",
   "outputs": [],
   "execution_count": 9
  },
  {
   "metadata": {
    "ExecuteTime": {
     "end_time": "2024-12-02T09:40:56.966132Z",
     "start_time": "2024-12-02T09:40:56.953416Z"
    }
   },
   "cell_type": "code",
   "source": [
    "def summarise_features(extra_features):\n",
    "    summarised_features = []\n",
    "    for rr_intervals, qrs_durations, r_amplitudes, q_amplitudes in extra_features:\n",
    "         summary = feature_summary(rr_intervals, qrs_durations, r_amplitudes, q_amplitudes)\n",
    "         summarised_features.append(summary)\n",
    "    return summarised_features"
   ],
   "id": "cf38da18924fe7b1",
   "outputs": [],
   "execution_count": 10
  },
  {
   "metadata": {
    "ExecuteTime": {
     "end_time": "2024-12-02T09:40:56.997584Z",
     "start_time": "2024-12-02T09:40:56.984884Z"
    }
   },
   "cell_type": "code",
   "source": [
    "def compile_stats(total_beats, extra_features):\n",
    "    data = []\n",
    "\n",
    "    for i in range(len(total_beats)):\n",
    "        if len(total_beats[i]) != 0:\n",
    "            mu, var, md = calc_stats(total_beats[i])\n",
    "            data.append([mu, var, md])\n",
    "\n",
    "    flattened = [np.concatenate([mu, var, md]) for mu, var, md in data]\n",
    "    Y = np.vstack(flattened)\n",
    "\n",
    "    feature_data = summarise_features(extra_features)\n",
    "\n",
    "    X = np.hstack((np.array(flattened), np.array(feature_data)))\n",
    "    return X"
   ],
   "id": "6516fec415d8568a",
   "outputs": [],
   "execution_count": 11
  },
  {
   "metadata": {
    "ExecuteTime": {
     "end_time": "2024-12-02T09:40:57.027891Z",
     "start_time": "2024-12-02T09:40:57.015990Z"
    }
   },
   "cell_type": "code",
   "source": [
    "def evaluate_model(model, X, y):\n",
    "    X_train, X_test, y_train, y_test = train_test_split(X, y, test_size=0.2, random_state=42)\n",
    "\n",
    "    model.fit(X_train, y_train)\n",
    "    y_pred = model.predict(X_test)\n",
    "\n",
    "    #accuracy = accuracy_score(y_test, y_pred)\n",
    "    f1 = f1_score(y_test, y_pred, average='micro')\n",
    "    return f1"
   ],
   "id": "ed71fdba6a77eb4e",
   "outputs": [],
   "execution_count": 12
  },
  {
   "metadata": {
    "ExecuteTime": {
     "end_time": "2024-12-02T09:40:57.059123Z",
     "start_time": "2024-12-02T09:40:57.045087Z"
    }
   },
   "cell_type": "code",
   "source": [
    "def visualise_model(model, X, y):\n",
    "    X_train, X_test, y_train, y_test = train_test_split(X, y, test_size=0.2, random_state=42)\n",
    "\n",
    "    model.fit(X_train, y_train)\n",
    "    y_pred = model.predict(X_test)\n",
    "\n",
    "    cm = confusion_matrix(y_test, y_pred)\n",
    "\n",
    "    plt.figure(figsize=(8, 6))\n",
    "    sns.heatmap(cm, annot=True, fmt='d', cmap='Blues', xticklabels=['Class 0', 'Class 1', 'Class 2', 'Class 3'], yticklabels=['Class 0', 'Class 1', 'Class 2', 'Class 3'])\n",
    "    plt.xlabel('Predicted')\n",
    "    plt.ylabel('True')\n",
    "    plt.title('Confusion Matrix')\n",
    "    plt.show()"
   ],
   "id": "3c041228d0b02cef",
   "outputs": [],
   "execution_count": 13
  },
  {
   "metadata": {
    "ExecuteTime": {
     "end_time": "2024-12-02T09:41:49.762555Z",
     "start_time": "2024-12-02T09:40:57.077503Z"
    }
   },
   "cell_type": "code",
   "source": [
    "train_data = pd.read_csv('train.csv', index_col='id')\n",
    "test_data = pd.read_csv('test.csv', index_col='id')"
   ],
   "id": "e5e460af9c25939b",
   "outputs": [],
   "execution_count": 14
  },
  {
   "metadata": {
    "ExecuteTime": {
     "end_time": "2024-12-02T09:41:49.918888Z",
     "start_time": "2024-12-02T09:41:49.907522Z"
    }
   },
   "cell_type": "code",
   "source": "y_train = train_data['y'].to_numpy()",
   "id": "8f88a7fb846947e7",
   "outputs": [],
   "execution_count": 15
  },
  {
   "metadata": {
    "ExecuteTime": {
     "end_time": "2024-12-02T09:41:50.885312Z",
     "start_time": "2024-12-02T09:41:49.970040Z"
    }
   },
   "cell_type": "code",
   "source": "train_data = train_data.drop(columns=['y'])",
   "id": "326966cf04d03cab",
   "outputs": [],
   "execution_count": 16
  },
  {
   "metadata": {
    "ExecuteTime": {
     "end_time": "2024-12-02T09:42:52.856365Z",
     "start_time": "2024-12-02T09:41:50.934582Z"
    }
   },
   "cell_type": "code",
   "source": [
    "train_array = drop_na(train_data)\n",
    "test_array = drop_na(test_data)"
   ],
   "id": "289d3676869de88c",
   "outputs": [],
   "execution_count": 17
  },
  {
   "metadata": {
    "ExecuteTime": {
     "end_time": "2024-12-02T09:49:25.193208Z",
     "start_time": "2024-12-02T09:42:52.955648Z"
    }
   },
   "cell_type": "code",
   "source": [
    "manual_train_features = extract_ecg_intervals_biosppy(train_array)\n",
    "manual_test_features = extract_ecg_intervals_biosppy(test_array)"
   ],
   "id": "3001b29a6a43f362",
   "outputs": [],
   "execution_count": 18
  },
  {
   "metadata": {
    "ExecuteTime": {
     "end_time": "2024-12-02T09:49:25.272Z",
     "start_time": "2024-12-02T09:49:25.259202Z"
    }
   },
   "cell_type": "code",
   "source": [
    "print(len(manual_train_features))\n",
    "len(manual_test_features)"
   ],
   "id": "fb5fdeefad43c04",
   "outputs": [
    {
     "name": "stdout",
     "output_type": "stream",
     "text": [
      "5117\n"
     ]
    },
    {
     "data": {
      "text/plain": [
       "3411"
      ]
     },
     "execution_count": 19,
     "metadata": {},
     "output_type": "execute_result"
    }
   ],
   "execution_count": 19
  },
  {
   "metadata": {
    "ExecuteTime": {
     "end_time": "2024-12-02T09:55:42.879245Z",
     "start_time": "2024-12-02T09:49:25.385746Z"
    }
   },
   "cell_type": "code",
   "source": [
    "total_train_beats = heartbeat_extractor(train_array)\n",
    "total_test_beats = heartbeat_extractor(test_array)"
   ],
   "id": "b426db5f278c1646",
   "outputs": [],
   "execution_count": 20
  },
  {
   "metadata": {
    "ExecuteTime": {
     "end_time": "2024-12-02T09:55:46.526114Z",
     "start_time": "2024-12-02T09:55:42.944268Z"
    }
   },
   "cell_type": "code",
   "source": [
    "X_train = compile_stats(total_train_beats, manual_train_features)\n",
    "X_test = compile_stats(total_test_beats, manual_test_features)"
   ],
   "id": "afcab83767bf48e8",
   "outputs": [],
   "execution_count": 21
  },
  {
   "metadata": {
    "ExecuteTime": {
     "end_time": "2024-12-02T09:55:46.634241Z",
     "start_time": "2024-12-02T09:55:46.606823Z"
    }
   },
   "cell_type": "code",
   "source": "np.array(X_train).shape",
   "id": "5dde31197fb4409f",
   "outputs": [
    {
     "data": {
      "text/plain": [
       "(5117, 556)"
      ]
     },
     "execution_count": 22,
     "metadata": {},
     "output_type": "execute_result"
    }
   ],
   "execution_count": 22
  },
  {
   "metadata": {
    "ExecuteTime": {
     "end_time": "2024-12-02T09:55:46.712464Z",
     "start_time": "2024-12-02T09:55:46.691293Z"
    }
   },
   "cell_type": "code",
   "source": "np.array(X_test).shape",
   "id": "16dd28b188b7f72d",
   "outputs": [
    {
     "data": {
      "text/plain": [
       "(3411, 556)"
      ]
     },
     "execution_count": 23,
     "metadata": {},
     "output_type": "execute_result"
    }
   ],
   "execution_count": 23
  },
  {
   "metadata": {
    "ExecuteTime": {
     "end_time": "2024-11-21T19:35:48.268879Z",
     "start_time": "2024-11-21T19:35:28.961082Z"
    }
   },
   "cell_type": "code",
   "source": [
    "model = RandomForestClassifier(n_estimators=200, random_state=42)\n",
    "model.fit(X_train, y_train)"
   ],
   "id": "7a9c08d51107b621",
   "outputs": [
    {
     "data": {
      "text/plain": [
       "RandomForestClassifier(n_estimators=200, random_state=42)"
      ],
      "text/html": [
       "<style>#sk-container-id-14 {\n",
       "  /* Definition of color scheme common for light and dark mode */\n",
       "  --sklearn-color-text: black;\n",
       "  --sklearn-color-line: gray;\n",
       "  /* Definition of color scheme for unfitted estimators */\n",
       "  --sklearn-color-unfitted-level-0: #fff5e6;\n",
       "  --sklearn-color-unfitted-level-1: #f6e4d2;\n",
       "  --sklearn-color-unfitted-level-2: #ffe0b3;\n",
       "  --sklearn-color-unfitted-level-3: chocolate;\n",
       "  /* Definition of color scheme for fitted estimators */\n",
       "  --sklearn-color-fitted-level-0: #f0f8ff;\n",
       "  --sklearn-color-fitted-level-1: #d4ebff;\n",
       "  --sklearn-color-fitted-level-2: #b3dbfd;\n",
       "  --sklearn-color-fitted-level-3: cornflowerblue;\n",
       "\n",
       "  /* Specific color for light theme */\n",
       "  --sklearn-color-text-on-default-background: var(--sg-text-color, var(--theme-code-foreground, var(--jp-content-font-color1, black)));\n",
       "  --sklearn-color-background: var(--sg-background-color, var(--theme-background, var(--jp-layout-color0, white)));\n",
       "  --sklearn-color-border-box: var(--sg-text-color, var(--theme-code-foreground, var(--jp-content-font-color1, black)));\n",
       "  --sklearn-color-icon: #696969;\n",
       "\n",
       "  @media (prefers-color-scheme: dark) {\n",
       "    /* Redefinition of color scheme for dark theme */\n",
       "    --sklearn-color-text-on-default-background: var(--sg-text-color, var(--theme-code-foreground, var(--jp-content-font-color1, white)));\n",
       "    --sklearn-color-background: var(--sg-background-color, var(--theme-background, var(--jp-layout-color0, #111)));\n",
       "    --sklearn-color-border-box: var(--sg-text-color, var(--theme-code-foreground, var(--jp-content-font-color1, white)));\n",
       "    --sklearn-color-icon: #878787;\n",
       "  }\n",
       "}\n",
       "\n",
       "#sk-container-id-14 {\n",
       "  color: var(--sklearn-color-text);\n",
       "}\n",
       "\n",
       "#sk-container-id-14 pre {\n",
       "  padding: 0;\n",
       "}\n",
       "\n",
       "#sk-container-id-14 input.sk-hidden--visually {\n",
       "  border: 0;\n",
       "  clip: rect(1px 1px 1px 1px);\n",
       "  clip: rect(1px, 1px, 1px, 1px);\n",
       "  height: 1px;\n",
       "  margin: -1px;\n",
       "  overflow: hidden;\n",
       "  padding: 0;\n",
       "  position: absolute;\n",
       "  width: 1px;\n",
       "}\n",
       "\n",
       "#sk-container-id-14 div.sk-dashed-wrapped {\n",
       "  border: 1px dashed var(--sklearn-color-line);\n",
       "  margin: 0 0.4em 0.5em 0.4em;\n",
       "  box-sizing: border-box;\n",
       "  padding-bottom: 0.4em;\n",
       "  background-color: var(--sklearn-color-background);\n",
       "}\n",
       "\n",
       "#sk-container-id-14 div.sk-container {\n",
       "  /* jupyter's `normalize.less` sets `[hidden] { display: none; }`\n",
       "     but bootstrap.min.css set `[hidden] { display: none !important; }`\n",
       "     so we also need the `!important` here to be able to override the\n",
       "     default hidden behavior on the sphinx rendered scikit-learn.org.\n",
       "     See: https://github.com/scikit-learn/scikit-learn/issues/21755 */\n",
       "  display: inline-block !important;\n",
       "  position: relative;\n",
       "}\n",
       "\n",
       "#sk-container-id-14 div.sk-text-repr-fallback {\n",
       "  display: none;\n",
       "}\n",
       "\n",
       "div.sk-parallel-item,\n",
       "div.sk-serial,\n",
       "div.sk-item {\n",
       "  /* draw centered vertical line to link estimators */\n",
       "  background-image: linear-gradient(var(--sklearn-color-text-on-default-background), var(--sklearn-color-text-on-default-background));\n",
       "  background-size: 2px 100%;\n",
       "  background-repeat: no-repeat;\n",
       "  background-position: center center;\n",
       "}\n",
       "\n",
       "/* Parallel-specific style estimator block */\n",
       "\n",
       "#sk-container-id-14 div.sk-parallel-item::after {\n",
       "  content: \"\";\n",
       "  width: 100%;\n",
       "  border-bottom: 2px solid var(--sklearn-color-text-on-default-background);\n",
       "  flex-grow: 1;\n",
       "}\n",
       "\n",
       "#sk-container-id-14 div.sk-parallel {\n",
       "  display: flex;\n",
       "  align-items: stretch;\n",
       "  justify-content: center;\n",
       "  background-color: var(--sklearn-color-background);\n",
       "  position: relative;\n",
       "}\n",
       "\n",
       "#sk-container-id-14 div.sk-parallel-item {\n",
       "  display: flex;\n",
       "  flex-direction: column;\n",
       "}\n",
       "\n",
       "#sk-container-id-14 div.sk-parallel-item:first-child::after {\n",
       "  align-self: flex-end;\n",
       "  width: 50%;\n",
       "}\n",
       "\n",
       "#sk-container-id-14 div.sk-parallel-item:last-child::after {\n",
       "  align-self: flex-start;\n",
       "  width: 50%;\n",
       "}\n",
       "\n",
       "#sk-container-id-14 div.sk-parallel-item:only-child::after {\n",
       "  width: 0;\n",
       "}\n",
       "\n",
       "/* Serial-specific style estimator block */\n",
       "\n",
       "#sk-container-id-14 div.sk-serial {\n",
       "  display: flex;\n",
       "  flex-direction: column;\n",
       "  align-items: center;\n",
       "  background-color: var(--sklearn-color-background);\n",
       "  padding-right: 1em;\n",
       "  padding-left: 1em;\n",
       "}\n",
       "\n",
       "\n",
       "/* Toggleable style: style used for estimator/Pipeline/ColumnTransformer box that is\n",
       "clickable and can be expanded/collapsed.\n",
       "- Pipeline and ColumnTransformer use this feature and define the default style\n",
       "- Estimators will overwrite some part of the style using the `sk-estimator` class\n",
       "*/\n",
       "\n",
       "/* Pipeline and ColumnTransformer style (default) */\n",
       "\n",
       "#sk-container-id-14 div.sk-toggleable {\n",
       "  /* Default theme specific background. It is overwritten whether we have a\n",
       "  specific estimator or a Pipeline/ColumnTransformer */\n",
       "  background-color: var(--sklearn-color-background);\n",
       "}\n",
       "\n",
       "/* Toggleable label */\n",
       "#sk-container-id-14 label.sk-toggleable__label {\n",
       "  cursor: pointer;\n",
       "  display: block;\n",
       "  width: 100%;\n",
       "  margin-bottom: 0;\n",
       "  padding: 0.5em;\n",
       "  box-sizing: border-box;\n",
       "  text-align: center;\n",
       "}\n",
       "\n",
       "#sk-container-id-14 label.sk-toggleable__label-arrow:before {\n",
       "  /* Arrow on the left of the label */\n",
       "  content: \"▸\";\n",
       "  float: left;\n",
       "  margin-right: 0.25em;\n",
       "  color: var(--sklearn-color-icon);\n",
       "}\n",
       "\n",
       "#sk-container-id-14 label.sk-toggleable__label-arrow:hover:before {\n",
       "  color: var(--sklearn-color-text);\n",
       "}\n",
       "\n",
       "/* Toggleable content - dropdown */\n",
       "\n",
       "#sk-container-id-14 div.sk-toggleable__content {\n",
       "  max-height: 0;\n",
       "  max-width: 0;\n",
       "  overflow: hidden;\n",
       "  text-align: left;\n",
       "  /* unfitted */\n",
       "  background-color: var(--sklearn-color-unfitted-level-0);\n",
       "}\n",
       "\n",
       "#sk-container-id-14 div.sk-toggleable__content.fitted {\n",
       "  /* fitted */\n",
       "  background-color: var(--sklearn-color-fitted-level-0);\n",
       "}\n",
       "\n",
       "#sk-container-id-14 div.sk-toggleable__content pre {\n",
       "  margin: 0.2em;\n",
       "  border-radius: 0.25em;\n",
       "  color: var(--sklearn-color-text);\n",
       "  /* unfitted */\n",
       "  background-color: var(--sklearn-color-unfitted-level-0);\n",
       "}\n",
       "\n",
       "#sk-container-id-14 div.sk-toggleable__content.fitted pre {\n",
       "  /* unfitted */\n",
       "  background-color: var(--sklearn-color-fitted-level-0);\n",
       "}\n",
       "\n",
       "#sk-container-id-14 input.sk-toggleable__control:checked~div.sk-toggleable__content {\n",
       "  /* Expand drop-down */\n",
       "  max-height: 200px;\n",
       "  max-width: 100%;\n",
       "  overflow: auto;\n",
       "}\n",
       "\n",
       "#sk-container-id-14 input.sk-toggleable__control:checked~label.sk-toggleable__label-arrow:before {\n",
       "  content: \"▾\";\n",
       "}\n",
       "\n",
       "/* Pipeline/ColumnTransformer-specific style */\n",
       "\n",
       "#sk-container-id-14 div.sk-label input.sk-toggleable__control:checked~label.sk-toggleable__label {\n",
       "  color: var(--sklearn-color-text);\n",
       "  background-color: var(--sklearn-color-unfitted-level-2);\n",
       "}\n",
       "\n",
       "#sk-container-id-14 div.sk-label.fitted input.sk-toggleable__control:checked~label.sk-toggleable__label {\n",
       "  background-color: var(--sklearn-color-fitted-level-2);\n",
       "}\n",
       "\n",
       "/* Estimator-specific style */\n",
       "\n",
       "/* Colorize estimator box */\n",
       "#sk-container-id-14 div.sk-estimator input.sk-toggleable__control:checked~label.sk-toggleable__label {\n",
       "  /* unfitted */\n",
       "  background-color: var(--sklearn-color-unfitted-level-2);\n",
       "}\n",
       "\n",
       "#sk-container-id-14 div.sk-estimator.fitted input.sk-toggleable__control:checked~label.sk-toggleable__label {\n",
       "  /* fitted */\n",
       "  background-color: var(--sklearn-color-fitted-level-2);\n",
       "}\n",
       "\n",
       "#sk-container-id-14 div.sk-label label.sk-toggleable__label,\n",
       "#sk-container-id-14 div.sk-label label {\n",
       "  /* The background is the default theme color */\n",
       "  color: var(--sklearn-color-text-on-default-background);\n",
       "}\n",
       "\n",
       "/* On hover, darken the color of the background */\n",
       "#sk-container-id-14 div.sk-label:hover label.sk-toggleable__label {\n",
       "  color: var(--sklearn-color-text);\n",
       "  background-color: var(--sklearn-color-unfitted-level-2);\n",
       "}\n",
       "\n",
       "/* Label box, darken color on hover, fitted */\n",
       "#sk-container-id-14 div.sk-label.fitted:hover label.sk-toggleable__label.fitted {\n",
       "  color: var(--sklearn-color-text);\n",
       "  background-color: var(--sklearn-color-fitted-level-2);\n",
       "}\n",
       "\n",
       "/* Estimator label */\n",
       "\n",
       "#sk-container-id-14 div.sk-label label {\n",
       "  font-family: monospace;\n",
       "  font-weight: bold;\n",
       "  display: inline-block;\n",
       "  line-height: 1.2em;\n",
       "}\n",
       "\n",
       "#sk-container-id-14 div.sk-label-container {\n",
       "  text-align: center;\n",
       "}\n",
       "\n",
       "/* Estimator-specific */\n",
       "#sk-container-id-14 div.sk-estimator {\n",
       "  font-family: monospace;\n",
       "  border: 1px dotted var(--sklearn-color-border-box);\n",
       "  border-radius: 0.25em;\n",
       "  box-sizing: border-box;\n",
       "  margin-bottom: 0.5em;\n",
       "  /* unfitted */\n",
       "  background-color: var(--sklearn-color-unfitted-level-0);\n",
       "}\n",
       "\n",
       "#sk-container-id-14 div.sk-estimator.fitted {\n",
       "  /* fitted */\n",
       "  background-color: var(--sklearn-color-fitted-level-0);\n",
       "}\n",
       "\n",
       "/* on hover */\n",
       "#sk-container-id-14 div.sk-estimator:hover {\n",
       "  /* unfitted */\n",
       "  background-color: var(--sklearn-color-unfitted-level-2);\n",
       "}\n",
       "\n",
       "#sk-container-id-14 div.sk-estimator.fitted:hover {\n",
       "  /* fitted */\n",
       "  background-color: var(--sklearn-color-fitted-level-2);\n",
       "}\n",
       "\n",
       "/* Specification for estimator info (e.g. \"i\" and \"?\") */\n",
       "\n",
       "/* Common style for \"i\" and \"?\" */\n",
       "\n",
       ".sk-estimator-doc-link,\n",
       "a:link.sk-estimator-doc-link,\n",
       "a:visited.sk-estimator-doc-link {\n",
       "  float: right;\n",
       "  font-size: smaller;\n",
       "  line-height: 1em;\n",
       "  font-family: monospace;\n",
       "  background-color: var(--sklearn-color-background);\n",
       "  border-radius: 1em;\n",
       "  height: 1em;\n",
       "  width: 1em;\n",
       "  text-decoration: none !important;\n",
       "  margin-left: 1ex;\n",
       "  /* unfitted */\n",
       "  border: var(--sklearn-color-unfitted-level-1) 1pt solid;\n",
       "  color: var(--sklearn-color-unfitted-level-1);\n",
       "}\n",
       "\n",
       ".sk-estimator-doc-link.fitted,\n",
       "a:link.sk-estimator-doc-link.fitted,\n",
       "a:visited.sk-estimator-doc-link.fitted {\n",
       "  /* fitted */\n",
       "  border: var(--sklearn-color-fitted-level-1) 1pt solid;\n",
       "  color: var(--sklearn-color-fitted-level-1);\n",
       "}\n",
       "\n",
       "/* On hover */\n",
       "div.sk-estimator:hover .sk-estimator-doc-link:hover,\n",
       ".sk-estimator-doc-link:hover,\n",
       "div.sk-label-container:hover .sk-estimator-doc-link:hover,\n",
       ".sk-estimator-doc-link:hover {\n",
       "  /* unfitted */\n",
       "  background-color: var(--sklearn-color-unfitted-level-3);\n",
       "  color: var(--sklearn-color-background);\n",
       "  text-decoration: none;\n",
       "}\n",
       "\n",
       "div.sk-estimator.fitted:hover .sk-estimator-doc-link.fitted:hover,\n",
       ".sk-estimator-doc-link.fitted:hover,\n",
       "div.sk-label-container:hover .sk-estimator-doc-link.fitted:hover,\n",
       ".sk-estimator-doc-link.fitted:hover {\n",
       "  /* fitted */\n",
       "  background-color: var(--sklearn-color-fitted-level-3);\n",
       "  color: var(--sklearn-color-background);\n",
       "  text-decoration: none;\n",
       "}\n",
       "\n",
       "/* Span, style for the box shown on hovering the info icon */\n",
       ".sk-estimator-doc-link span {\n",
       "  display: none;\n",
       "  z-index: 9999;\n",
       "  position: relative;\n",
       "  font-weight: normal;\n",
       "  right: .2ex;\n",
       "  padding: .5ex;\n",
       "  margin: .5ex;\n",
       "  width: min-content;\n",
       "  min-width: 20ex;\n",
       "  max-width: 50ex;\n",
       "  color: var(--sklearn-color-text);\n",
       "  box-shadow: 2pt 2pt 4pt #999;\n",
       "  /* unfitted */\n",
       "  background: var(--sklearn-color-unfitted-level-0);\n",
       "  border: .5pt solid var(--sklearn-color-unfitted-level-3);\n",
       "}\n",
       "\n",
       ".sk-estimator-doc-link.fitted span {\n",
       "  /* fitted */\n",
       "  background: var(--sklearn-color-fitted-level-0);\n",
       "  border: var(--sklearn-color-fitted-level-3);\n",
       "}\n",
       "\n",
       ".sk-estimator-doc-link:hover span {\n",
       "  display: block;\n",
       "}\n",
       "\n",
       "/* \"?\"-specific style due to the `<a>` HTML tag */\n",
       "\n",
       "#sk-container-id-14 a.estimator_doc_link {\n",
       "  float: right;\n",
       "  font-size: 1rem;\n",
       "  line-height: 1em;\n",
       "  font-family: monospace;\n",
       "  background-color: var(--sklearn-color-background);\n",
       "  border-radius: 1rem;\n",
       "  height: 1rem;\n",
       "  width: 1rem;\n",
       "  text-decoration: none;\n",
       "  /* unfitted */\n",
       "  color: var(--sklearn-color-unfitted-level-1);\n",
       "  border: var(--sklearn-color-unfitted-level-1) 1pt solid;\n",
       "}\n",
       "\n",
       "#sk-container-id-14 a.estimator_doc_link.fitted {\n",
       "  /* fitted */\n",
       "  border: var(--sklearn-color-fitted-level-1) 1pt solid;\n",
       "  color: var(--sklearn-color-fitted-level-1);\n",
       "}\n",
       "\n",
       "/* On hover */\n",
       "#sk-container-id-14 a.estimator_doc_link:hover {\n",
       "  /* unfitted */\n",
       "  background-color: var(--sklearn-color-unfitted-level-3);\n",
       "  color: var(--sklearn-color-background);\n",
       "  text-decoration: none;\n",
       "}\n",
       "\n",
       "#sk-container-id-14 a.estimator_doc_link.fitted:hover {\n",
       "  /* fitted */\n",
       "  background-color: var(--sklearn-color-fitted-level-3);\n",
       "}\n",
       "</style><div id=\"sk-container-id-14\" class=\"sk-top-container\"><div class=\"sk-text-repr-fallback\"><pre>RandomForestClassifier(n_estimators=200, random_state=42)</pre><b>In a Jupyter environment, please rerun this cell to show the HTML representation or trust the notebook. <br />On GitHub, the HTML representation is unable to render, please try loading this page with nbviewer.org.</b></div><div class=\"sk-container\" hidden><div class=\"sk-item\"><div class=\"sk-estimator fitted sk-toggleable\"><input class=\"sk-toggleable__control sk-hidden--visually\" id=\"sk-estimator-id-14\" type=\"checkbox\" checked><label for=\"sk-estimator-id-14\" class=\"sk-toggleable__label fitted sk-toggleable__label-arrow fitted\">&nbsp;&nbsp;RandomForestClassifier<a class=\"sk-estimator-doc-link fitted\" rel=\"noreferrer\" target=\"_blank\" href=\"https://scikit-learn.org/1.5/modules/generated/sklearn.ensemble.RandomForestClassifier.html\">?<span>Documentation for RandomForestClassifier</span></a><span class=\"sk-estimator-doc-link fitted\">i<span>Fitted</span></span></label><div class=\"sk-toggleable__content fitted\"><pre>RandomForestClassifier(n_estimators=200, random_state=42)</pre></div> </div></div></div></div>"
      ]
     },
     "execution_count": 117,
     "metadata": {},
     "output_type": "execute_result"
    }
   ],
   "execution_count": 117
  },
  {
   "metadata": {
    "ExecuteTime": {
     "end_time": "2024-11-21T19:36:03.201390Z",
     "start_time": "2024-11-21T19:35:48.279913Z"
    }
   },
   "cell_type": "code",
   "source": "f1 = evaluate_model(model, X_train, y_train)",
   "id": "b714d396d7931e95",
   "outputs": [],
   "execution_count": 118
  },
  {
   "metadata": {
    "ExecuteTime": {
     "end_time": "2024-11-21T19:36:03.263144Z",
     "start_time": "2024-11-21T19:36:03.250088Z"
    }
   },
   "cell_type": "code",
   "source": "f1",
   "id": "3fdbd6603e7e84f2",
   "outputs": [
    {
     "data": {
      "text/plain": [
       "0.73046875"
      ]
     },
     "execution_count": 119,
     "metadata": {},
     "output_type": "execute_result"
    }
   ],
   "execution_count": 119
  },
  {
   "metadata": {
    "ExecuteTime": {
     "end_time": "2024-11-21T19:36:21.406799Z",
     "start_time": "2024-11-21T19:36:06.317196Z"
    }
   },
   "cell_type": "code",
   "source": "visualise_model(model, X_train, y_train)",
   "id": "bc672bbd42815152",
   "outputs": [
    {
     "data": {
      "text/plain": [
       "<Figure size 800x600 with 2 Axes>"
      ],
      "image/png": "[encoded data removed]"
     },
     "metadata": {},
     "output_type": "display_data"
    }
   ],
   "execution_count": 120
  },
  {
   "metadata": {
    "ExecuteTime": {
     "end_time": "2024-11-21T19:36:40.883711Z",
     "start_time": "2024-11-21T19:36:21.425843Z"
    }
   },
   "cell_type": "code",
   "source": [
    "model.fit(X_train, y_train)\n",
    "y_pred = model.predict(X_test)"
   ],
   "id": "6590d56ceef3be1",
   "outputs": [],
   "execution_count": 121
  },
  {
   "metadata": {
    "ExecuteTime": {
     "end_time": "2024-11-21T19:36:40.945858Z",
     "start_time": "2024-11-21T19:36:40.932892Z"
    }
   },
   "cell_type": "code",
   "source": "len(y_pred)",
   "id": "ec9f9e44b853915b",
   "outputs": [
    {
     "data": {
      "text/plain": [
       "3411"
      ]
     },
     "execution_count": 122,
     "metadata": {},
     "output_type": "execute_result"
    }
   ],
   "execution_count": 122
  },
  {
   "metadata": {
    "ExecuteTime": {
     "end_time": "2024-11-21T19:36:51.604031Z",
     "start_time": "2024-11-21T19:36:51.577984Z"
    }
   },
   "cell_type": "code",
   "source": "ci.save_predictions(y_pred, 'C:/Users/vodou/Documents/Academic/MA1/Advanced Machine Learning/Tasks/Task_2/predictions.csv')",
   "id": "f448e681d7e7a787",
   "outputs": [],
   "execution_count": 123
  },
  {
   "metadata": {},
   "cell_type": "code",
   "outputs": [],
   "execution_count": null,
   "source": "",
   "id": "5570f2e1cf824a91"
  }
 ],
 "metadata": {
  "kernelspec": {
   "display_name": "Python 3",
   "language": "python",
   "name": "python3"
  },
  "language_info": {
   "codemirror_mode": {
    "name": "ipython",
    "version": 2
   },
   "file_extension": ".py",
   "mimetype": "text/x-python",
   "name": "python",
   "nbconvert_exporter": "python",
   "pygments_lexer": "ipython2",
   "version": "2.7.6"
  }
 },
 "nbformat": 4,
 "nbformat_minor": 5
}
